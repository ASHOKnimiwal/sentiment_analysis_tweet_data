{
  "nbformat": 4,
  "nbformat_minor": 0,
  "metadata": {
    "colab": {
      "name": "sentiment_anaylsis_twitter_data.ipynb",
      "provenance": [],
      "authorship_tag": "ABX9TyOFMC1zdD5Ep7BiEuipyIXi",
      "include_colab_link": true
    },
    "kernelspec": {
      "name": "python3",
      "display_name": "Python 3"
    }
  },
  "cells": [
    {
      "cell_type": "markdown",
      "metadata": {
        "id": "view-in-github",
        "colab_type": "text"
      },
      "source": [
        "<a href=\"https://colab.research.google.com/github/ASHOKnimiwal/Sentiment_Analysis_Tweet_Data/blob/master/sentiment_anaylsis_twitter_data.ipynb\" target=\"_parent\"><img src=\"https://colab.research.google.com/assets/colab-badge.svg\" alt=\"Open In Colab\"/></a>"
      ]
    },
    {
      "cell_type": "markdown",
      "metadata": {
        "id": "2RjaMlvbHdys",
        "colab_type": "text"
      },
      "source": [
        "**Note: You have to first fill the twitter_credentials file variables with your own unique TweepyAPI secret keys and tokens in order to stream the tweets**"
      ]
    },
    {
      "cell_type": "code",
      "metadata": {
        "id": "KjYZbEWMGY3c",
        "colab_type": "code",
        "colab": {
          "base_uri": "https://localhost:8080/",
          "height": 35
        },
        "outputId": "ccf6be07-e386-4090-a5d0-b3cb4024d7d2"
      },
      "source": [
        "# Make Sentiment_Analysis_Tweet_Data our woking directory\n",
        "%cd Sentiment_Analysis_Tweet_Data"
      ],
      "execution_count": 12,
      "outputs": [
        {
          "output_type": "stream",
          "text": [
            "/content/Sentiment_Analysis_Tweet_Data\n"
          ],
          "name": "stdout"
        }
      ]
    },
    {
      "cell_type": "markdown",
      "metadata": {
        "id": "ZW5MM6YQHrlf",
        "colab_type": "text"
      },
      "source": [
        "**Importing required modules, files and libraries**"
      ]
    },
    {
      "cell_type": "code",
      "metadata": {
        "id": "_ybG1XtgG40m",
        "colab_type": "code",
        "colab": {}
      },
      "source": [
        "from tweepy import API \n",
        "from tweepy import Cursor\n",
        "from tweepy.streaming import StreamListener\n",
        "from tweepy import OAuthHandler\n",
        "from tweepy import Stream\n",
        "\n",
        "from textblob import TextBlob\n",
        " \n",
        "import twitter_credentials\n",
        "\n",
        "import matplotlib.pyplot as plt\n",
        "import numpy as np\n",
        "import pandas as pd\n",
        "import re"
      ],
      "execution_count": 14,
      "outputs": []
    },
    {
      "cell_type": "markdown",
      "metadata": {
        "id": "__eF4c0IH1hc",
        "colab_type": "text"
      },
      "source": [
        "**Twitter Client**"
      ]
    },
    {
      "cell_type": "code",
      "metadata": {
        "id": "8o1Bc0eJHwvX",
        "colab_type": "code",
        "colab": {}
      },
      "source": [
        "class TwitterClient():\n",
        "    def __init__(self, twitter_user=None):\n",
        "        self.auth = TwitterAuthenticator().authenticate_twitter_app()\n",
        "        self.twitter_client = API(self.auth)\n",
        "\n",
        "        self.twitter_user = twitter_user\n",
        "\n",
        "    def get_twitter_client_api(self):\n",
        "        return self.twitter_client\n",
        "\n",
        "    def get_user_timeline_tweets(self, num_tweets):\n",
        "        tweets = []\n",
        "        for tweet in Cursor(self.twitter_client.user_timeline, id=self.twitter_user).items(num_tweets):\n",
        "            tweets.append(tweet)\n",
        "        return tweets\n",
        "\n",
        "    def get_friend_list(self, num_friends):\n",
        "        friend_list = []\n",
        "        for friend in Cursor(self.twitter_client.friends, id=self.twitter_user).items(num_friends):\n",
        "            friend_list.append(friend)\n",
        "        return friend_list\n",
        "\n",
        "    def get_home_timeline_tweets(self, num_tweets):\n",
        "        home_timeline_tweets = []\n",
        "        for tweet in Cursor(self.twitter_client.home_timeline, id=self.twitter_user).items(num_tweets):\n",
        "            home_timeline_tweets.append(tweet)\n",
        "        return home_timeline_tweets"
      ],
      "execution_count": 15,
      "outputs": []
    },
    {
      "cell_type": "markdown",
      "metadata": {
        "id": "7sNVwgkPH9lv",
        "colab_type": "text"
      },
      "source": [
        "**Twitter Authenticator**"
      ]
    },
    {
      "cell_type": "code",
      "metadata": {
        "id": "dPnBzaCxH8e8",
        "colab_type": "code",
        "colab": {}
      },
      "source": [
        "class TwitterAuthenticator():\n",
        "\n",
        "    def authenticate_twitter_app(self):\n",
        "        auth = OAuthHandler(twitter_credentials.CONSUMER_KEY, twitter_credentials.CONSUMER_SECRET)\n",
        "        auth.set_access_token(twitter_credentials.ACCESS_TOKEN, twitter_credentials.ACCESS_TOKEN_SECRET)\n",
        "        return auth\n"
      ],
      "execution_count": 16,
      "outputs": []
    },
    {
      "cell_type": "markdown",
      "metadata": {
        "id": "YNzPbtLRIFCT",
        "colab_type": "text"
      },
      "source": [
        "**Twitter Streamer**"
      ]
    },
    {
      "cell_type": "code",
      "metadata": {
        "id": "GGm3dwXSIEBt",
        "colab_type": "code",
        "colab": {}
      },
      "source": [
        "class TwitterStreamer():\n",
        "    \"\"\"\n",
        "    Class for streaming and processing live tweets.\n",
        "    \"\"\"\n",
        "    def __init__(self):\n",
        "        self.twitter_autenticator = TwitterAuthenticator()    \n",
        "\n",
        "    def stream_tweets(self, fetched_tweets_filename, hash_tag_list):\n",
        "        # This handles Twitter authetification and the connection to Twitter Streaming API\n",
        "        listener = TwitterListener(fetched_tweets_filename)\n",
        "        auth = self.twitter_autenticator.authenticate_twitter_app() \n",
        "        stream = Stream(auth, listener)\n",
        "\n",
        "        # This line filter Twitter Streams to capture data by the keywords: \n",
        "        stream.filter(track=hash_tag_list)"
      ],
      "execution_count": 17,
      "outputs": []
    },
    {
      "cell_type": "markdown",
      "metadata": {
        "id": "ApwEF4t6ILlX",
        "colab_type": "text"
      },
      "source": [
        "**Twitter Stream Listener**"
      ]
    },
    {
      "cell_type": "code",
      "metadata": {
        "id": "qdiyhJceIK44",
        "colab_type": "code",
        "colab": {}
      },
      "source": [
        "class TwitterListener(StreamListener):\n",
        "    \"\"\"\n",
        "    This is a basic listener that just prints received tweets to stdout.\n",
        "    \"\"\"\n",
        "    def __init__(self, fetched_tweets_filename):\n",
        "        self.fetched_tweets_filename = fetched_tweets_filename\n",
        "\n",
        "    def on_data(self, data):\n",
        "        try:\n",
        "            print(data)\n",
        "            with open(self.fetched_tweets_filename, 'a') as tf:\n",
        "                tf.write(data)\n",
        "            return True\n",
        "        except BaseException as e:\n",
        "            print(\"Error on_data %s\" % str(e))\n",
        "        return True\n",
        "          \n",
        "    def on_error(self, status):\n",
        "        if status == 420:\n",
        "            # Returning False on_data method in case rate limit occurs.\n",
        "            return False\n",
        "        print(status)"
      ],
      "execution_count": 18,
      "outputs": []
    },
    {
      "cell_type": "markdown",
      "metadata": {
        "id": "uFxURJHQIY8r",
        "colab_type": "text"
      },
      "source": [
        "**Twitter Analyzer**"
      ]
    },
    {
      "cell_type": "code",
      "metadata": {
        "id": "9gfe8A2DISAA",
        "colab_type": "code",
        "colab": {}
      },
      "source": [
        "class TweetAnalyzer():\n",
        "    \"\"\"\n",
        "    Functionality for analyzing and categorizing content from tweets.\n",
        "    \"\"\"\n",
        "\n",
        "    def clean_tweet(self, tweet):\n",
        "        return ' '.join(re.sub(\"(@[A-Za-z0-9]+)|([^0-9A-Za-z \\t])|(\\w+:\\/\\/\\S+)\", \" \", tweet).split())\n",
        "\n",
        "    def analyze_sentiment(self, tweet):\n",
        "        analysis = TextBlob(self.clean_tweet(tweet))\n",
        "        \n",
        "        if analysis.sentiment.polarity > 0:\n",
        "            return 1\n",
        "        elif analysis.sentiment.polarity == 0:\n",
        "            return 0\n",
        "        else:\n",
        "            return -1\n",
        "\n",
        "    def tweets_to_data_frame(self, tweets):\n",
        "        df = pd.DataFrame(data=[tweet.text for tweet in tweets], columns=['tweets'])\n",
        "\n",
        "        df['id'] = np.array([tweet.id for tweet in tweets])\n",
        "        df['len'] = np.array([len(tweet.text) for tweet in tweets])\n",
        "        df['date'] = np.array([tweet.created_at for tweet in tweets])\n",
        "        df['source'] = np.array([tweet.source for tweet in tweets])\n",
        "        df['likes'] = np.array([tweet.favorite_count for tweet in tweets])\n",
        "        df['retweets'] = np.array([tweet.retweet_count for tweet in tweets])\n",
        "\n",
        "        return df"
      ],
      "execution_count": 19,
      "outputs": []
    },
    {
      "cell_type": "markdown",
      "metadata": {
        "id": "wwhQehObIhk3",
        "colab_type": "text"
      },
      "source": [
        "**Main Function**"
      ]
    },
    {
      "cell_type": "code",
      "metadata": {
        "id": "mvoTYuAQIf_g",
        "colab_type": "code",
        "colab": {}
      },
      "source": [
        "if __name__ == '__main__':\n",
        "\n",
        "    twitter_client = TwitterClient()\n",
        "    tweet_analyzer = TweetAnalyzer()\n",
        "\n",
        "    api = twitter_client.get_twitter_client_api()\n",
        "\n",
        "    tweets = api.user_timeline(screen_name=\"ICC\", count=200)\n",
        "\n",
        "    df = tweet_analyzer.tweets_to_data_frame(tweets)\n",
        "    df['sentiment'] = np.array([tweet_analyzer.analyze_sentiment(tweet) for tweet in df['tweets']])\n",
        "\n",
        "    print(df.head(10))"
      ],
      "execution_count": null,
      "outputs": []
    }
  ]
}